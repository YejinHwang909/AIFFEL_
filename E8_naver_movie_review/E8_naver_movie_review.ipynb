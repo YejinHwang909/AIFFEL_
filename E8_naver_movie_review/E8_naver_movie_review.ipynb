{
 "cells": [
  {
   "cell_type": "markdown",
   "id": "understanding-token",
   "metadata": {},
   "source": [
    "# 1) 데이터 준비와 확인"
   ]
  },
  {
   "cell_type": "code",
   "execution_count": 1434,
   "id": "becoming-conspiracy",
   "metadata": {
    "scrolled": true
   },
   "outputs": [
    {
     "data": {
      "text/html": [
       "<div>\n",
       "<style scoped>\n",
       "    .dataframe tbody tr th:only-of-type {\n",
       "        vertical-align: middle;\n",
       "    }\n",
       "\n",
       "    .dataframe tbody tr th {\n",
       "        vertical-align: top;\n",
       "    }\n",
       "\n",
       "    .dataframe thead th {\n",
       "        text-align: right;\n",
       "    }\n",
       "</style>\n",
       "<table border=\"1\" class=\"dataframe\">\n",
       "  <thead>\n",
       "    <tr style=\"text-align: right;\">\n",
       "      <th></th>\n",
       "      <th>id</th>\n",
       "      <th>document</th>\n",
       "      <th>label</th>\n",
       "    </tr>\n",
       "  </thead>\n",
       "  <tbody>\n",
       "    <tr>\n",
       "      <th>0</th>\n",
       "      <td>9976970</td>\n",
       "      <td>아 더빙.. 진짜 짜증나네요 목소리</td>\n",
       "      <td>0</td>\n",
       "    </tr>\n",
       "    <tr>\n",
       "      <th>1</th>\n",
       "      <td>3819312</td>\n",
       "      <td>흠...포스터보고 초딩영화줄....오버연기조차 가볍지 않구나</td>\n",
       "      <td>1</td>\n",
       "    </tr>\n",
       "    <tr>\n",
       "      <th>2</th>\n",
       "      <td>10265843</td>\n",
       "      <td>너무재밓었다그래서보는것을추천한다</td>\n",
       "      <td>0</td>\n",
       "    </tr>\n",
       "    <tr>\n",
       "      <th>3</th>\n",
       "      <td>9045019</td>\n",
       "      <td>교도소 이야기구먼 ..솔직히 재미는 없다..평점 조정</td>\n",
       "      <td>0</td>\n",
       "    </tr>\n",
       "    <tr>\n",
       "      <th>4</th>\n",
       "      <td>6483659</td>\n",
       "      <td>사이몬페그의 익살스런 연기가 돋보였던 영화!스파이더맨에서 늙어보이기만 했던 커스틴 ...</td>\n",
       "      <td>1</td>\n",
       "    </tr>\n",
       "  </tbody>\n",
       "</table>\n",
       "</div>"
      ],
      "text/plain": [
       "         id                                           document  label\n",
       "0   9976970                                아 더빙.. 진짜 짜증나네요 목소리      0\n",
       "1   3819312                  흠...포스터보고 초딩영화줄....오버연기조차 가볍지 않구나      1\n",
       "2  10265843                                  너무재밓었다그래서보는것을추천한다      0\n",
       "3   9045019                      교도소 이야기구먼 ..솔직히 재미는 없다..평점 조정      0\n",
       "4   6483659  사이몬페그의 익살스런 연기가 돋보였던 영화!스파이더맨에서 늙어보이기만 했던 커스틴 ...      1"
      ]
     },
     "execution_count": 1434,
     "metadata": {},
     "output_type": "execute_result"
    }
   ],
   "source": [
    "import pandas as pd\n",
    "import urllib.request\n",
    "%matplotlib inline\n",
    "import matplotlib.pyplot as plt\n",
    "import re\n",
    "from konlpy.tag import Okt\n",
    "from tensorflow import keras\n",
    "from tensorflow.keras.preprocessing.text import Tokenizer\n",
    "import numpy as np\n",
    "from tensorflow.keras.preprocessing.sequence import pad_sequences\n",
    "from collections import Counter\n",
    "\n",
    "# 데이터를 읽어봅시다. \n",
    "train_data = pd.read_table('~/aiffel/sentiment_classification/data/ratings_train.txt')\n",
    "test_data = pd.read_table('~/aiffel/sentiment_classification/data/ratings_test.txt')\n",
    "\n",
    "train_data.head()"
   ]
  },
  {
   "cell_type": "markdown",
   "id": "defensive-concert",
   "metadata": {},
   "source": [
    "# 2) 데이터로더 구성\n",
    "- 데이터의 중복 제거\n",
    "- NaN 결측치 제거\n",
    "- 한국어 토크나이저로 토큰화\n",
    "- 불용어(Stopwords) 제거\n",
    "- 사전 word_to_index 구성\n",
    "- 텍스트 스트링을 사전 인덱스 스트링으로 변환\n",
    "- X_train, y_train, X_test, y_test, word_to_index 리턴"
   ]
  },
  {
   "cell_type": "code",
   "execution_count": 1435,
   "id": "laughing-premiere",
   "metadata": {},
   "outputs": [],
   "source": [
    "from konlpy.tag import Mecab\n",
    "tokenizer = Mecab()\n",
    "stopwords = ['의','가','이','은','들','는','좀','잘','걍','과','도','를','으로','자','에','와','한','하다']\n",
    "\n",
    "def load_data(train_data, test_data, num_words=10000):\n",
    "    train_data.drop_duplicates(subset=['document'], inplace=True) #중복제거\n",
    "    train_data = train_data.dropna(how = 'any') #NaN 결측치 제거\n",
    "    test_data.drop_duplicates(subset=['document'], inplace=True)\n",
    "    test_data = test_data.dropna(how = 'any') \n",
    "    \n",
    "    X_train = []\n",
    "    for sentence in train_data['document']:\n",
    "        temp_X = tokenizer.morphs(sentence) # 토큰화\n",
    "        temp_X = [word for word in temp_X if not word in stopwords] # 불용어 제거\n",
    "        X_train.append(temp_X)\n",
    "\n",
    "    X_test = []\n",
    "    for sentence in test_data['document']:\n",
    "        temp_X = tokenizer.morphs(sentence) # 토큰화\n",
    "        temp_X = [word for word in temp_X if not word in stopwords] # 불용어 제거\n",
    "        X_test.append(temp_X)\n",
    "    \n",
    "    words = np.concatenate(X_train).tolist()\n",
    "    counter = Counter(words)\n",
    "    counter = counter.most_common(10000-4)\n",
    "    vocab = ['', '', '', ''] + [key for key, _ in counter]\n",
    "    word_to_index = {word:index for index, word in enumerate(vocab)}\n",
    "    \n",
    "    def wordlist_to_indexlist(wordlist):\n",
    "        return [word_to_index[word] if word in word_to_index else word_to_index[''] for word in wordlist]\n",
    "        \n",
    "    X_train = list(map(wordlist_to_indexlist, X_train))\n",
    "    X_test = list(map(wordlist_to_indexlist, X_test))\n",
    "    \n",
    "    #텍스트 스트링을 사전 인덱스 스트링으로 변환\n",
    "    return X_train, np.array(list(train_data['label'])), X_test, np.array(list(test_data['label'])), word_to_index\n",
    "    \n",
    "X_train, y_train, X_test, y_test, word_to_index = load_data(train_data, test_data) "
   ]
  },
  {
   "cell_type": "code",
   "execution_count": 1436,
   "id": "concerned-timeline",
   "metadata": {},
   "outputs": [
    {
     "name": "stdout",
     "output_type": "stream",
     "text": [
      "더 빙 . . 진짜 짜증 나 네요 목소리\n",
      "라벨:  0\n"
     ]
    }
   ],
   "source": [
    "index_to_word = {index:word for word, index in word_to_index.items()}\n",
    "\n",
    "# 문장 1개를 활용할 딕셔너리와 함께 주면, 단어 인덱스 리스트 벡터로 변환해 주는 함수입니다. \n",
    "# 단, 모든 문장은 <BOS>로 시작하는 것으로 합니다. \n",
    "def get_encoded_sentence(sentence, word_to_index):\n",
    "    return [word_to_index['<BOS>']]+[word_to_index[word] if word in word_to_index else word_to_index['<UNK>'] for word in sentence.split()]\n",
    "\n",
    "# 여러 개의 문장 리스트를 한꺼번에 단어 인덱스 리스트 벡터로 encode해 주는 함수입니다. \n",
    "def get_encoded_sentences(sentences, word_to_index):\n",
    "    return [get_encoded_sentence(sentence, word_to_index) for sentence in sentences]\n",
    "\n",
    "# 숫자 벡터로 encode된 문장을 원래대로 decode하는 함수입니다. \n",
    "def get_decoded_sentence(encoded_sentence, index_to_word):\n",
    "    return ' '.join(index_to_word[index] if index in index_to_word else '<UNK>' for index in encoded_sentence[1:])  #[1:]를 통해 <BOS>를 제외\n",
    "\n",
    "# 여러 개의 숫자 벡터로 encode된 문장을 한꺼번에 원래대로 decode하는 함수입니다. \n",
    "def get_decoded_sentences(encoded_sentences, index_to_word):\n",
    "    return [get_decoded_sentence(encoded_sentence, index_to_word) for encoded_sentence in encoded_sentences]\n",
    "\n",
    "print(get_decoded_sentence(X_train[0], index_to_word))\n",
    "print('라벨: ', y_train[0])  # 1번째 리뷰데이터의 라벨"
   ]
  },
  {
   "cell_type": "markdown",
   "id": "changing-intensity",
   "metadata": {},
   "source": [
    "# 3) 모델구성을 위한 데이터 분석 및 가공\n",
    "- 데이터셋 내 문장 길이 분포\n",
    "- 적절한 최대 문장 길이 지정\n",
    "- keras.preprocessing.sequence.pad_sequences을 활용한 패딩 추가"
   ]
  },
  {
   "cell_type": "code",
   "execution_count": 1437,
   "id": "synthetic-nursery",
   "metadata": {},
   "outputs": [],
   "source": [
    "word_to_index={k:(v+3) for k,v in word_to_index.items()}\n",
    "\n",
    "word_to_index[\"<PAD>\"]=0\n",
    "word_to_index[\"<BOS>\"]=1\n",
    "word_to_index[\"<UNK>\"]=2\n",
    "word_to_index[\"<UNUSED>\"]=3\n",
    "\n",
    "index_to_word[0]=\"<PAD>\"\n",
    "index_to_word[1]=\"<BOS>\"\n",
    "index_to_word[2]=\"<UNK>\"\n",
    "index_to_word[3]=\"<UNUSED>\""
   ]
  },
  {
   "cell_type": "code",
   "execution_count": 1438,
   "id": "composite-compensation",
   "metadata": {},
   "outputs": [
    {
     "name": "stdout",
     "output_type": "stream",
     "text": [
      "문장길이 평균: 15.96940191154864\n",
      "문장길이 최대: 116\n",
      "문장길이 표준편차: 12.843571191092\n",
      "pad_sequences maxlen: 41\n",
      "전체 문장의 0.9342988343341575%가 maxlen 설정값 이내에 포함됩니다.\n"
     ]
    }
   ],
   "source": [
    "total_data_text=list(X_train)+list(X_test)\n",
    "\n",
    "num_tokens=[len(tokens) for tokens in total_data_text]\n",
    "num_tokens=np.array(num_tokens)\n",
    "\n",
    "print('문장길이 평균:',np.mean(num_tokens))\n",
    "print('문장길이 최대:',np.max(num_tokens))\n",
    "print('문장길이 표준편차:',np.std(num_tokens))\n",
    "\n",
    "max_tokens=np.mean(num_tokens)+2*np.std(num_tokens)\n",
    "maxlen=int(max_tokens)\n",
    "\n",
    "print('pad_sequences maxlen:',maxlen)\n",
    "print('전체 문장의 {}%가 maxlen 설정값 이내에 포함됩니다.'.format(np.sum(num_tokens<max_tokens)/len(num_tokens)))"
   ]
  },
  {
   "cell_type": "code",
   "execution_count": 1439,
   "id": "fifth-airplane",
   "metadata": {},
   "outputs": [
    {
     "name": "stdout",
     "output_type": "stream",
     "text": [
      "(146182, 41)\n"
     ]
    }
   ],
   "source": [
    "X_train = keras.preprocessing.sequence.pad_sequences(X_train,\n",
    "                                                        value=word_to_index[\"<PAD>\"],\n",
    "                                                        padding='post',\n",
    "                                                        maxlen=maxlen)\n",
    "\n",
    "X_test = keras.preprocessing.sequence.pad_sequences(X_test,\n",
    "                                                       value=word_to_index[\"<PAD>\"],\n",
    "                                                       padding='post',\n",
    "                                                       maxlen=maxlen)\n",
    "\n",
    "print(X_train.shape)"
   ]
  },
  {
   "cell_type": "markdown",
   "id": "grand-profile",
   "metadata": {},
   "source": [
    "# 4) 모델구성 및 validation set 구성\n",
    "## 모델은 3가지 이상 다양하게 구성하여 실험해 보세요."
   ]
  },
  {
   "cell_type": "code",
   "execution_count": 1440,
   "id": "according-estate",
   "metadata": {
    "scrolled": true
   },
   "outputs": [],
   "source": [
    "vocab_size = 10000  # 어휘 사전의 크기입니다(10,000개의 단어)\n",
    "word_vector_dim = 32  # 단어 하나를 표현하는 임베딩 벡터의 차원수. \n",
    "\n",
    "# RNN 모델 사용 (LSTM 사용)\n",
    "# model = keras.Sequential()\n",
    "# model.add(keras.layers.Embedding(vocab_size, word_vector_dim, input_shape=(None,)))\n",
    "# model.add(keras.layers.Dropout(0.5))\n",
    "# model.add(keras.layers.LSTM(8))# 가장 널리 쓰이는 RNN인 LSTM 레이어를 사용하였습니다. 이때 LSTM state 벡터의 차원수는 8로 하였습니다. (변경 가능)\n",
    "# model.add(keras.layers.Dense(8, activation='relu'))\n",
    "# model.add(keras.layers.Dense(1, activation='sigmoid'))  # 최종 출력은 긍정/부정을 나타내는 1dim 입니다.\n",
    "\n",
    "# model.summary()"
   ]
  },
  {
   "cell_type": "code",
   "execution_count": 1441,
   "id": "acute-robertson",
   "metadata": {},
   "outputs": [],
   "source": [
    "# RNN 모델 사용 (GRU 사용)\n",
    "# model = keras.Sequential()\n",
    "# model.add(keras.layers.Embedding(vocab_size, word_vector_dim, input_shape=(None,)))\n",
    "# model.add(keras.layers.GRU(8))   # 가장 널리 쓰이는 RNN인 LSTM 레이어를 사용하였습니다. 이때 LSTM state 벡터의 차원수는 8로 하였습니다. (변경 가능)\n",
    "# model.add(keras.layers.Dense(8, activation='relu'))\n",
    "# model.add(keras.layers.Dense(1, activation='sigmoid'))  # 최종 출력은 긍정/부정을 나타내는 1dim 입니다.\n",
    "\n",
    "# model.summary()"
   ]
  },
  {
   "cell_type": "code",
   "execution_count": 1442,
   "id": "saving-sixth",
   "metadata": {},
   "outputs": [
    {
     "name": "stdout",
     "output_type": "stream",
     "text": [
      "Model: \"sequential_62\"\n",
      "_________________________________________________________________\n",
      "Layer (type)                 Output Shape              Param #   \n",
      "=================================================================\n",
      "embedding_62 (Embedding)     (None, None, 32)          320000    \n",
      "_________________________________________________________________\n",
      "dropout_77 (Dropout)         (None, None, 32)          0         \n",
      "_________________________________________________________________\n",
      "conv1d_56 (Conv1D)           (None, None, 16)          3600      \n",
      "_________________________________________________________________\n",
      "max_pooling1d_29 (MaxPooling (None, None, 16)          0         \n",
      "_________________________________________________________________\n",
      "conv1d_57 (Conv1D)           (None, None, 16)          1808      \n",
      "_________________________________________________________________\n",
      "global_max_pooling1d_28 (Glo (None, 16)                0         \n",
      "_________________________________________________________________\n",
      "dense_112 (Dense)            (None, 8)                 136       \n",
      "_________________________________________________________________\n",
      "dense_113 (Dense)            (None, 1)                 9         \n",
      "=================================================================\n",
      "Total params: 325,553\n",
      "Trainable params: 325,553\n",
      "Non-trainable params: 0\n",
      "_________________________________________________________________\n"
     ]
    }
   ],
   "source": [
    "# 1DConv 모델을 사용하여 텍스트 데이터 처리\n",
    "model = keras.Sequential()\n",
    "model.add(keras.layers.Embedding(vocab_size, word_vector_dim, input_shape=(None,)))\n",
    "model.add(keras.layers.Dropout(0.7))\n",
    "\n",
    "model.add(keras.layers.Conv1D(16, 7, activation='relu'))\n",
    "model.add(keras.layers.MaxPooling1D(5))\n",
    "#model.add(keras.layers.Dropout(0.25))\n",
    "\n",
    "model.add(keras.layers.Conv1D(16, 7, activation='relu'))\n",
    "model.add(keras.layers.GlobalMaxPooling1D())\n",
    "\n",
    "model.add(keras.layers.Dense(8, activation='relu'))\n",
    "model.add(keras.layers.Dense(1, activation='sigmoid'))\n",
    "\n",
    "model.summary()"
   ]
  },
  {
   "cell_type": "code",
   "execution_count": 1443,
   "id": "creative-archive",
   "metadata": {},
   "outputs": [],
   "source": [
    "# GlobalMaxPooling1D 모델을 사용하여 텍스트 데이터 처리\n",
    "# model = keras.Sequential()\n",
    "# model.add(keras.layers.Embedding(vocab_size, word_vector_dim, input_shape=(None,)))\n",
    "# model.add(keras.layers.GlobalMaxPooling1D())\n",
    "# model.add(keras.layers.Dense(8, activation='relu'))\n",
    "# model.add(keras.layers.Dense(1, activation='sigmoid'))\n",
    "\n",
    "# model.summary()"
   ]
  },
  {
   "cell_type": "code",
   "execution_count": 1444,
   "id": "nominated-cemetery",
   "metadata": {},
   "outputs": [
    {
     "name": "stdout",
     "output_type": "stream",
     "text": [
      "(96182, 41)\n",
      "(96182,)\n"
     ]
    }
   ],
   "source": [
    "# validation set 50000건 분리\n",
    "x_val = X_train[:50000]   \n",
    "y_val = y_train[:50000]\n",
    "\n",
    "# validation set을 제외한 나머지 \n",
    "partial_x_train = X_train[50000:]  \n",
    "partial_y_train = y_train[50000:]\n",
    "\n",
    "print(partial_x_train.shape)\n",
    "print(partial_y_train.shape)"
   ]
  },
  {
   "cell_type": "markdown",
   "id": "varied-collect",
   "metadata": {},
   "source": [
    "# 5) 모델 훈련 개시"
   ]
  },
  {
   "cell_type": "code",
   "execution_count": 1445,
   "id": "dutch-stick",
   "metadata": {
    "scrolled": true
   },
   "outputs": [
    {
     "name": "stdout",
     "output_type": "stream",
     "text": [
      "Epoch 1/5\n",
      "188/188 [==============================] - 3s 11ms/step - loss: 0.6691 - accuracy: 0.5525 - val_loss: 0.4038 - val_accuracy: 0.8268\n",
      "Epoch 2/5\n",
      "188/188 [==============================] - 2s 10ms/step - loss: 0.4054 - accuracy: 0.8179 - val_loss: 0.3634 - val_accuracy: 0.8428\n",
      "Epoch 3/5\n",
      "188/188 [==============================] - 2s 10ms/step - loss: 0.3606 - accuracy: 0.8448 - val_loss: 0.3488 - val_accuracy: 0.8495\n",
      "Epoch 4/5\n",
      "188/188 [==============================] - 2s 10ms/step - loss: 0.3413 - accuracy: 0.8556 - val_loss: 0.3450 - val_accuracy: 0.8511\n",
      "Epoch 5/5\n",
      "188/188 [==============================] - 2s 10ms/step - loss: 0.3328 - accuracy: 0.8591 - val_loss: 0.3428 - val_accuracy: 0.8509\n"
     ]
    }
   ],
   "source": [
    "model.compile(optimizer='adam',\n",
    "              loss='binary_crossentropy',\n",
    "              metrics=['accuracy'])\n",
    "              \n",
    "epochs=5\n",
    "\n",
    "history = model.fit(partial_x_train,\n",
    "                    partial_y_train,\n",
    "                    epochs=epochs,\n",
    "                    batch_size=512,\n",
    "                    validation_data=(x_val, y_val),\n",
    "                    verbose=1)"
   ]
  },
  {
   "cell_type": "markdown",
   "id": "numerous-creativity",
   "metadata": {},
   "source": [
    "# 6) Loss, Accuracy 그래프 시각화"
   ]
  },
  {
   "cell_type": "code",
   "execution_count": 1446,
   "id": "expanded-secretary",
   "metadata": {},
   "outputs": [
    {
     "name": "stdout",
     "output_type": "stream",
     "text": [
      "1537/1537 - 3s - loss: 0.3520 - accuracy: 0.8488\n",
      "[0.35201728343963623, 0.8488109707832336]\n",
      "dict_keys(['loss', 'accuracy', 'val_loss', 'val_accuracy'])\n"
     ]
    }
   ],
   "source": [
    "results = model.evaluate(X_test,  y_test, verbose=2)\n",
    "print(results)\n",
    "\n",
    "history_dict = history.history\n",
    "print(history_dict.keys())"
   ]
  },
  {
   "cell_type": "code",
   "execution_count": 1447,
   "id": "bizarre-quantum",
   "metadata": {},
   "outputs": [
    {
     "data": {
      "image/png": "[encoded data removed]",
      "text/plain": [
       "<Figure size 432x288 with 1 Axes>"
      ]
     },
     "metadata": {
      "needs_background": "light"
     },
     "output_type": "display_data"
    }
   ],
   "source": [
    "import matplotlib.pyplot as plt\n",
    "\n",
    "acc=history_dict['accuracy']\n",
    "val_acc=history_dict['val_accuracy']\n",
    "loss=history_dict['loss']\n",
    "val_loss=history_dict['val_loss']\n",
    "\n",
    "epochs=range(1,len(acc)+1)\n",
    "\n",
    "plt.plot(epochs,loss,'bo',label='Training loss')\n",
    "plt.plot(epochs,val_loss,'b',label='Validation loss')\n",
    "plt.title('Training and validation loss')\n",
    "plt.xlabel('Epochs')\n",
    "plt.ylabel('Loss')\n",
    "plt.legend()\n",
    "\n",
    "plt.show()"
   ]
  },
  {
   "cell_type": "code",
   "execution_count": 1448,
   "id": "fourth-mayor",
   "metadata": {
    "scrolled": true
   },
   "outputs": [
    {
     "data": {
      "image/png": "[encoded data removed]",
      "text/plain": [
       "<Figure size 432x288 with 1 Axes>"
      ]
     },
     "metadata": {
      "needs_background": "light"
     },
     "output_type": "display_data"
    }
   ],
   "source": [
    "plt.clf()   # 그림을 초기화합니다\n",
    "\n",
    "plt.plot(epochs, acc, 'bo', label='Training acc')\n",
    "plt.plot(epochs, val_acc, 'b', label='Validation acc')\n",
    "plt.title('Training and validation accuracy')\n",
    "plt.xlabel('Epochs')\n",
    "plt.ylabel('Accuracy')\n",
    "plt.legend()\n",
    "\n",
    "plt.show()"
   ]
  },
  {
   "cell_type": "markdown",
   "id": "empty-advisory",
   "metadata": {},
   "source": [
    "# 7) 학습된 Embedding 레이어 분석"
   ]
  },
  {
   "cell_type": "code",
   "execution_count": 1449,
   "id": "faced-century",
   "metadata": {},
   "outputs": [
    {
     "name": "stdout",
     "output_type": "stream",
     "text": [
      "(10000, 32)\n"
     ]
    }
   ],
   "source": [
    "embedding_layer = model.layers[0]\n",
    "weights = embedding_layer.get_weights()[0]\n",
    "print(weights.shape)    # shape: (vocab_size, embedding_dim)"
   ]
  },
  {
   "cell_type": "code",
   "execution_count": 1450,
   "id": "purple-canada",
   "metadata": {},
   "outputs": [],
   "source": [
    "import os\n",
    "import gensim\n",
    "from gensim.models.keyedvectors import Word2VecKeyedVectors\n",
    "from tensorflow.keras.initializers import Constant\n",
    "\n",
    "# 학습한 Embedding 파라미터를 파일에 써서 저장합니다. \n",
    "word2vec_file_path = os.getenv('HOME')+'/aiffel/practice/word2vec.txt'\n",
    "f = open(word2vec_file_path, 'w')\n",
    "f.write('{} {}\\n'.format(vocab_size-4, word_vector_dim))  # 몇개의 벡터를 얼마 사이즈로 기재할지 타이틀을 씁니다.\n",
    "\n",
    "# 단어 개수(에서 특수문자 4개는 제외하고)만큼의 워드 벡터를 파일에 기록합니다. \n",
    "vectors = model.get_weights()[0]\n",
    "for i in range(4,vocab_size):\n",
    "    f.write('{} {}\\n'.format(index_to_word[i], ' '.join(map(str, list(vectors[i, :])))))\n",
    "f.close()"
   ]
  },
  {
   "cell_type": "code",
   "execution_count": 1451,
   "id": "southeast-parcel",
   "metadata": {},
   "outputs": [
    {
     "data": {
      "text/plain": [
       "array([-0.15742376, -0.12942094, -0.16431135,  0.11319396, -0.11210472,\n",
       "        0.11279696,  0.0825785 , -0.20411709, -0.11737934,  0.15198947,\n",
       "       -0.16734155, -0.12158643, -0.14226523,  0.12688555,  0.1305208 ,\n",
       "        0.02189706, -0.17216977,  0.16603643, -0.03943763, -0.12602556,\n",
       "        0.15831   ,  0.14548917, -0.13637745,  0.09685455, -0.12179127,\n",
       "        0.09557119,  0.15081762,  0.10819469,  0.16131446,  0.17311257,\n",
       "        0.00159982,  0.13418733], dtype=float32)"
      ]
     },
     "execution_count": 1451,
     "metadata": {},
     "output_type": "execute_result"
    }
   ],
   "source": [
    "from gensim.models.keyedvectors import Word2VecKeyedVectors\n",
    "\n",
    "word_vectors = Word2VecKeyedVectors.load_word2vec_format(word2vec_file_path, binary=False)\n",
    "vector = word_vectors['최고']\n",
    "vector"
   ]
  },
  {
   "cell_type": "code",
   "execution_count": 1452,
   "id": "verified-partnership",
   "metadata": {},
   "outputs": [
    {
     "data": {
      "text/plain": [
       "[('여운', 0.9587080478668213),\n",
       " ('수작', 0.9503226280212402),\n",
       " ('먹먹', 0.949605405330658),\n",
       " ('10', 0.9473637938499451),\n",
       " ('이제서야', 0.9470676183700562),\n",
       " ('소장', 0.945749819278717),\n",
       " ('슬퍼요', 0.942376434803009),\n",
       " ('빠져들', 0.9411198496818542),\n",
       " ('탄탄', 0.9410998225212097),\n",
       " ('이제야', 0.9401180744171143)]"
      ]
     },
     "execution_count": 1452,
     "metadata": {},
     "output_type": "execute_result"
    }
   ],
   "source": [
    "word_vectors.similar_by_word(\"최고\")"
   ]
  },
  {
   "cell_type": "markdown",
   "id": "headed-universe",
   "metadata": {},
   "source": [
    "# 8) 한국어 Word2Vec 임베딩 활용하여 성능개선"
   ]
  },
  {
   "cell_type": "code",
   "execution_count": 1453,
   "id": "worse-valve",
   "metadata": {},
   "outputs": [],
   "source": [
    "import gensim.models.keyedvectors as word2vec\n",
    "\n",
    "word2vec_path = os.getenv('HOME')+'/aiffel/sentiment_classification/data/ko.vec'\n",
    "word2vec = word2vec.KeyedVectors.load_word2vec_format(word2vec_path, binary=False)"
   ]
  },
  {
   "cell_type": "code",
   "execution_count": 1454,
   "id": "ideal-continent",
   "metadata": {},
   "outputs": [
    {
     "data": {
      "text/plain": [
       "[('손꼽히', 0.4780629873275757),\n",
       " ('책임자', 0.45002973079681396),\n",
       " ('경영자', 0.44841131567955017),\n",
       " ('최상급', 0.4441218972206116),\n",
       " ('자랑', 0.4403001666069031),\n",
       " ('끌어올리', 0.4225207567214966),\n",
       " ('올라서', 0.4208473265171051),\n",
       " ('꼽히', 0.4160469174385071),\n",
       " ('버금가', 0.4138873219490051),\n",
       " ('최저', 0.4119304418563843)]"
      ]
     },
     "execution_count": 1454,
     "metadata": {},
     "output_type": "execute_result"
    }
   ],
   "source": [
    "word2vec.similar_by_word(\"최고\")"
   ]
  },
  {
   "cell_type": "code",
   "execution_count": 1455,
   "id": "billion-range",
   "metadata": {},
   "outputs": [],
   "source": [
    "vocab_size = 10000    # 어휘 사전의 크기입니다(10,000개의 단어)\n",
    "word_vector_dim = 200  # 워드 벡터의 차원수\n",
    "embedding_matrix = np.random.rand(vocab_size, word_vector_dim)\n",
    "\n",
    "# embedding_matrix에 Word2Vec 워드 벡터를 단어 하나씩마다 차례차례 카피한다.\n",
    "for i in range(4,vocab_size):\n",
    "    if index_to_word[i] in word2vec:\n",
    "        embedding_matrix[i] = word2vec[index_to_word[i]]"
   ]
  },
  {
   "cell_type": "code",
   "execution_count": 1456,
   "id": "cardiac-particular",
   "metadata": {},
   "outputs": [
    {
     "name": "stdout",
     "output_type": "stream",
     "text": [
      "Epoch 1/5\n",
      "188/188 [==============================] - 3s 11ms/step - loss: 0.3234 - accuracy: 0.8646 - val_loss: 0.3421 - val_accuracy: 0.8520\n",
      "Epoch 2/5\n",
      "188/188 [==============================] - 2s 10ms/step - loss: 0.3124 - accuracy: 0.8683 - val_loss: 0.3405 - val_accuracy: 0.8523\n",
      "Epoch 3/5\n",
      "188/188 [==============================] - 2s 10ms/step - loss: 0.3099 - accuracy: 0.8694 - val_loss: 0.3388 - val_accuracy: 0.8540\n",
      "Epoch 4/5\n",
      "188/188 [==============================] - 2s 10ms/step - loss: 0.3052 - accuracy: 0.8731 - val_loss: 0.3389 - val_accuracy: 0.8533\n",
      "Epoch 5/5\n",
      "188/188 [==============================] - 2s 10ms/step - loss: 0.3001 - accuracy: 0.8751 - val_loss: 0.3396 - val_accuracy: 0.8531\n"
     ]
    }
   ],
   "source": [
    "# 학습의 진행\n",
    "model.compile(optimizer='adam',\n",
    "              loss='binary_crossentropy',\n",
    "              metrics=['accuracy'])\n",
    "              \n",
    "epochs=5\n",
    "\n",
    "history = model.fit(partial_x_train,\n",
    "                    partial_y_train,\n",
    "                    epochs=epochs,\n",
    "                    batch_size=512,\n",
    "                    validation_data=(x_val, y_val),\n",
    "                    verbose=1)"
   ]
  },
  {
   "cell_type": "code",
   "execution_count": 1457,
   "id": "established-voice",
   "metadata": {},
   "outputs": [
    {
     "name": "stdout",
     "output_type": "stream",
     "text": [
      "1537/1537 [==============================] - 3s 2ms/step - loss: 0.3491 - accuracy: 0.8506\n",
      "[0.3490792214870453, 0.8506418466567993]\n"
     ]
    }
   ],
   "source": [
    "# 테스트셋을 통한 모델 평가\n",
    "results = model.evaluate(X_test,  y_test, verbose=1)\n",
    "\n",
    "print(results)"
   ]
  },
  {
   "cell_type": "code",
   "execution_count": 1458,
   "id": "prescribed-iraqi",
   "metadata": {},
   "outputs": [
    {
     "data": {
      "image/png": "[encoded data removed]",
      "text/plain": [
       "<Figure size 432x288 with 1 Axes>"
      ]
     },
     "metadata": {
      "needs_background": "light"
     },
     "output_type": "display_data"
    }
   ],
   "source": [
    "acc=history_dict['accuracy']\n",
    "val_acc=history_dict['val_accuracy']\n",
    "loss=history_dict['loss']\n",
    "val_loss=history_dict['val_loss']\n",
    "\n",
    "epochs=range(1,len(acc)+1)\n",
    "\n",
    "plt.clf()   # 그림을 초기화합니다\n",
    "plt.plot(epochs,loss,'bo',label='Training loss')\n",
    "plt.plot(epochs,val_loss,'b',label='Validation loss')\n",
    "plt.title('Training and validation loss')\n",
    "plt.xlabel('Epochs')\n",
    "plt.ylabel('Loss')\n",
    "plt.legend()\n",
    "\n",
    "plt.show()"
   ]
  },
  {
   "cell_type": "code",
   "execution_count": 1459,
   "id": "removed-porter",
   "metadata": {},
   "outputs": [
    {
     "data": {
      "image/png": "[encoded data removed]",
      "text/plain": [
       "<Figure size 432x288 with 1 Axes>"
      ]
     },
     "metadata": {
      "needs_background": "light"
     },
     "output_type": "display_data"
    }
   ],
   "source": [
    "plt.clf()   # 그림을 초기화합니다\n",
    "\n",
    "plt.plot(epochs, acc, 'bo', label='Training acc')\n",
    "plt.plot(epochs, val_acc, 'b', label='Validation acc')\n",
    "plt.title('Training and validation accuracy')\n",
    "plt.xlabel('Epochs')\n",
    "plt.ylabel('Accuracy')\n",
    "plt.legend()\n",
    "\n",
    "plt.show()"
   ]
  },
  {
   "cell_type": "markdown",
   "id": "awful-hearts",
   "metadata": {},
   "source": [
    "# 회고\n",
    "### - 계속 ko.bin을 읽는 과정에서  'utf-8' codec can't decode byte 0xc8 in position 0: invalid continuation byte라는 오류가 발생. 인코딩방법을 달리해도 계속 오류가 발생하길래 자료에 문제가 있는줄 알고 다시 다운 받고 해봤지만 계속 오류 발생. 결국 ko.bin이 아닌 ko.vec파일을 이용하니깐 오류 해결되었다."
   ]
  },
  {
   "cell_type": "markdown",
   "id": "dominican-reproduction",
   "metadata": {},
   "source": [
    "### - RNN모델의 LSTM을 사용했을 때 정확도가 0.8156가 나왔다.\n",
    "### - RNN모델의 GRU를 사용했을 때 정확도가 0.8180가 나왔다.\n",
    "### - 1DConv 모델을 사용했을 때 정확도가 0.7992가 나왔다.\n",
    "### - GlobalMaxPooling1D 모델을 사용했을 때 정확도가 0.8054가 나왔다.\n",
    "- 정확도가 계속 85%가 안넘어서 epoch를 20에서 10으로 고치니깐 GlobalMaxPooling1D의 정확도가 조금 더 올라간 0.8218이 나왔다.epoch를 5, 10으로 고치니깐 0.8279 나왔다. 하지만 85%는 넘지 않았다.\n",
    "- 제일 정확도가 높았던 LSTM모델의 epoch를 5, 10으로 고치니깐 0.8320이 나왔다. 조금 올랐다.\n",
    "- 임베딩 벡터 차원수를 16에서 32로 고치니깐 0.8395로 조금 더 올랐다.\n",
    "- LSTM모델의 벡터의 차원의 수를 8개에서 16개로 고치니깐 0.8258로 오히려 떨어졌다.\n",
    "- dropout 0.5를 추가 하니깐 정확도가 0.8455로 늘어났다"
   ]
  },
  {
   "cell_type": "markdown",
   "id": "suffering-birmingham",
   "metadata": {},
   "source": [
    "### - RNN모델의 LSTM을 사용하고, dropout 0.7을 추가하니깐 정확도가 85%이상으로 나왔다.\n",
    "### - 학습된 임베딩 모델로 '최고'와 비슷한 단어들을 찾았을 때 '여운, 수작, 먹먹, 10, 이제서야, 소장, 슬퍼요, 빠져들, 탄탄, 이제서야' 등 영화리뷰라면 좋은 영화에 쓸 법한 단어들이 나왔지만 최고의 사전적인 의미와는 거리가 멀어보인다.\n",
    "### - 한국어 Word2Vec 임베딩 모델로 '최고'와 비슷한 단어들을 찾았을 때는 '손꼽히, 책임자, 경영자, 최상급, 자랑, 끌어올리, 올라서, 꼽히, 버금가, 최저' 등 최저를 제외하고는 최고의 사전적인 의미와 비슷한 단어들이 나왔다.\n",
    "### - 한국어 Word2Vec 임베딩 모델의 결과가 더 정확하게 나왔다고 느끼지만, 정확도를 봤을 때는 학습된 임베딩 모델의 경우 0.8488이고, 한국어 Word2Vec 임베딩 모델의 경우에는 0.8509으로 후자가 조금 더 높았다. 눈에 띄는 차이가 있지는 않았다."
   ]
  }
 ],
 "metadata": {
  "kernelspec": {
   "display_name": "Python 3",
   "language": "python",
   "name": "python3"
  },
  "language_info": {
   "codemirror_mode": {
    "name": "ipython",
    "version": 3
   },
   "file_extension": ".py",
   "mimetype": "text/x-python",
   "name": "python",
   "nbconvert_exporter": "python",
   "pygments_lexer": "ipython3",
   "version": "3.7.9"
  }
 },
 "nbformat": 4,
 "nbformat_minor": 5
}
