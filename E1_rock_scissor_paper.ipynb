{
 "cells": [
  {
   "cell_type": "markdown",
   "id": "funny-exhaust",
   "metadata": {},
   "source": [
    "# 데이터 불러오기 + Resize 하기"
   ]
  },
  {
   "cell_type": "code",
   "execution_count": 3,
   "id": "humanitarian-employment",
   "metadata": {
    "scrolled": false
   },
   "outputs": [
    {
     "name": "stdout",
     "output_type": "stream",
     "text": [
      "PIL 라이브러리 import 완료!\n"
     ]
    }
   ],
   "source": [
    "from PIL import Image\n",
    "import os, glob\n",
    "\n",
    "print (\"PIL 라이브러리 import 완료!\")"
   ]
  },
  {
   "cell_type": "code",
   "execution_count": 9,
   "id": "compatible-headline",
   "metadata": {},
   "outputs": [
    {
     "name": "stdout",
     "output_type": "stream",
     "text": [
      "100  images to be resized.\n",
      "100  images resized.\n",
      "가위 이미지 resize 완료!\n"
     ]
    }
   ],
   "source": [
    "import os\n",
    "\n",
    "def resize_images(img_path):\n",
    "\timages=glob.glob(img_path + \"/*.jpg\")  \n",
    "    \n",
    "\tprint(len(images), \" images to be resized.\")\n",
    "\n",
    "    # 파일마다 모두 35x35 사이즈로 바꾸어 저장합니다.\n",
    "    target_size=(35,35)\n",
    "\tfor img in images:\n",
    "\t\told_img=Image.open(img)\n",
    "\t\tnew_img=old_img.resize(target_size,Image.ANTIALIAS)\n",
    "\t\tnew_img.save(img, \"JPEG\")\n",
    "    \n",
    "\tprint(len(images), \" images resized.\")\n",
    "\t\n",
    "# 가위 이미지가 저장된 디렉토리 아래의 모든 jpg 파일을 읽어들여서 resize 후 저장\n",
    "image_dir_path = os.getenv(\"HOME\") + \"/aiffel/rock_scissor_paper/scissor\"\n",
    "resize_images(image_dir_path)\n",
    "\n",
    "print(\"가위 이미지 resize 완료!\")"
   ]
  },
  {
   "cell_type": "code",
   "execution_count": 10,
   "id": "typical-liechtenstein",
   "metadata": {},
   "outputs": [
    {
     "name": "stdout",
     "output_type": "stream",
     "text": [
      "100  images to be resized.\n",
      "100  images resized.\n",
      "바위 이미지 resize 완료!\n"
     ]
    }
   ],
   "source": [
    "# 바위 이미지가 저장된 디렉토리 아래의 모든 jpg 파일을 읽어들여서 resize 후 저장\n",
    "image_dir_path = os.getenv(\"HOME\") + \"/aiffel/rock_scissor_paper/rock\"\n",
    "resize_images(image_dir_path)\n",
    "\n",
    "print(\"바위 이미지 resize 완료!\")"
   ]
  },
  {
   "cell_type": "code",
   "execution_count": 11,
   "id": "south-import",
   "metadata": {
    "scrolled": true
   },
   "outputs": [
    {
     "name": "stdout",
     "output_type": "stream",
     "text": [
      "100  images to be resized.\n",
      "100  images resized.\n",
      "보 이미지 resize 완료!\n"
     ]
    }
   ],
   "source": [
    "# 보 이미지가 저장된 디렉토리 아래의 모든 jpg 파일을 읽어들여서 resize 후 저장\n",
    "image_dir_path = os.getenv(\"HOME\") + \"/aiffel/rock_scissor_paper/paper\"\n",
    "resize_images(image_dir_path)\n",
    "\n",
    "print(\"보 이미지 resize 완료!\")"
   ]
  },
  {
   "cell_type": "code",
   "execution_count": 44,
   "id": "accredited-moses",
   "metadata": {},
   "outputs": [
    {
     "name": "stdout",
     "output_type": "stream",
     "text": [
      "이미지 개수는 300 입니다.\n",
      "x_train shape: (300, 35, 35, 3)\n",
      "y_train shape: (300,)\n"
     ]
    }
   ],
   "source": [
    "import numpy as np\n",
    "\n",
    "def load_data(img_path, number_of_data=300):  # 가위바위보 이미지 개수 총합에 주의하세요.\n",
    "    # 가위 : 0, 바위 : 1, 보 : 2\n",
    "    img_size=35\n",
    "    color=3\n",
    "    #이미지 데이터와 라벨(가위 : 0, 바위 : 1, 보 : 2) 데이터를 담을 행렬(matrix) 영역을 생성합니다.\n",
    "    imgs=np.zeros(number_of_data*img_size*img_size*color,dtype=np.int32).reshape(number_of_data,img_size,img_size,color)\n",
    "    labels=np.zeros(number_of_data,dtype=np.int32)\n",
    "\n",
    "    idx=0\n",
    "    for file in glob.iglob(img_path+'/scissor/*.jpg'):\n",
    "        img = np.array(Image.open(file),dtype=np.int32)\n",
    "        imgs[idx,:,:,:]=img    # 데이터 영역에 이미지 행렬을 복사\n",
    "        labels[idx]=0   # 가위 : 0\n",
    "        idx=idx+1\n",
    "\n",
    "    for file in glob.iglob(img_path+'/rock/*.jpg'):\n",
    "        img = np.array(Image.open(file),dtype=np.int32)\n",
    "        imgs[idx,:,:,:]=img    # 데이터 영역에 이미지 행렬을 복사\n",
    "        labels[idx]=1   # 바위 : 1\n",
    "        idx=idx+1  \n",
    "    \n",
    "    for file in glob.iglob(img_path+'/paper/*.jpg'):\n",
    "        img = np.array(Image.open(file),dtype=np.int32)\n",
    "        imgs[idx,:,:,:]=img    # 데이터 영역에 이미지 행렬을 복사\n",
    "        labels[idx]=2   # 보 : 2\n",
    "        idx=idx+1\n",
    "        \n",
    "    print(\"이미지 개수는\", idx,\"입니다.\")\n",
    "    return imgs, labels\n",
    "\n",
    "image_dir_path = os.getenv(\"HOME\") + \"/aiffel/rock_scissor_paper\"\n",
    "(x_train, y_train)=load_data(image_dir_path)\n",
    "x_train_norm = x_train/255.0   # 입력은 0~1 사이의 값으로 정규화\n",
    "\n",
    "print(\"x_train shape: {}\".format(x_train.shape))\n",
    "print(\"y_train shape: {}\".format(y_train.shape))"
   ]
  },
  {
   "cell_type": "code",
   "execution_count": 14,
   "id": "younger-deployment",
   "metadata": {},
   "outputs": [
    {
     "name": "stdout",
     "output_type": "stream",
     "text": [
      "라벨: 0\n"
     ]
    },
    {
     "data": {
      "image/png": "[encoded data removed]",
      "text/plain": [
       "<Figure size 432x288 with 1 Axes>"
      ]
     },
     "metadata": {
      "needs_background": "light"
     },
     "output_type": "display_data"
    }
   ],
   "source": [
    "import matplotlib.pyplot as plt\n",
    "plt.imshow(x_train[0])\n",
    "print('라벨:',y_train[0])"
   ]
  },
  {
   "cell_type": "markdown",
   "id": "framed-windsor",
   "metadata": {},
   "source": [
    "# 딥러닝 네트워크 설계하기"
   ]
  },
  {
   "cell_type": "code",
   "execution_count": 67,
   "id": "stretch-singapore",
   "metadata": {
    "scrolled": true
   },
   "outputs": [
    {
     "name": "stdout",
     "output_type": "stream",
     "text": [
      "Model: \"sequential_11\"\n",
      "_________________________________________________________________\n",
      "Layer (type)                 Output Shape              Param #   \n",
      "=================================================================\n",
      "conv2d_21 (Conv2D)           (None, 33, 33, 256)       7168      \n",
      "_________________________________________________________________\n",
      "max_pooling2d_20 (MaxPooling (None, 11, 11, 256)       0         \n",
      "_________________________________________________________________\n",
      "conv2d_22 (Conv2D)           (None, 9, 9, 256)         590080    \n",
      "_________________________________________________________________\n",
      "max_pooling2d_21 (MaxPooling (None, 3, 3, 256)         0         \n",
      "_________________________________________________________________\n",
      "flatten_10 (Flatten)         (None, 2304)              0         \n",
      "_________________________________________________________________\n",
      "dense_20 (Dense)             (None, 128)               295040    \n",
      "_________________________________________________________________\n",
      "dense_21 (Dense)             (None, 10)                1290      \n",
      "=================================================================\n",
      "Total params: 893,578\n",
      "Trainable params: 893,578\n",
      "Non-trainable params: 0\n",
      "_________________________________________________________________\n"
     ]
    }
   ],
   "source": [
    "import tensorflow as tf\n",
    "from tensorflow import keras\n",
    "import numpy as np\n",
    "\n",
    "#seed 값 설정\n",
    "np.random.seed(3)\n",
    "tf.random.set_seed(3)\n",
    "\n",
    "#하이퍼파라미터들\n",
    "n_channel_1=256\n",
    "n_channel_2=256\n",
    "n_dense=128\n",
    "n_train_epoch=30\n",
    "\n",
    "#딥러닝 네트워크 모델 설계하기\n",
    "model=keras.models.Sequential()\n",
    "model.add(keras.layers.Conv2D(n_channel_1, (3,3), activation='relu', input_shape=(35,35,3)))\n",
    "model.add(keras.layers.MaxPool2D(3,3))\n",
    "model.add(keras.layers.Conv2D(n_channel_2, (3,3), activation='relu'))\n",
    "model.add(keras.layers.MaxPooling2D((3,3)))\n",
    "model.add(keras.layers.Flatten())\n",
    "model.add(keras.layers.Dense(n_dense, activation='relu'))\n",
    "model.add(keras.layers.Dense(10, activation='softmax'))\n",
    "\n",
    "model.summary()"
   ]
  },
  {
   "cell_type": "markdown",
   "id": "sapphire-switzerland",
   "metadata": {},
   "source": [
    "# 딥러닝 네트워크 학습시키기"
   ]
  },
  {
   "cell_type": "code",
   "execution_count": 68,
   "id": "extreme-uzbekistan",
   "metadata": {
    "scrolled": false
   },
   "outputs": [
    {
     "name": "stdout",
     "output_type": "stream",
     "text": [
      "After Reshape - x_train_reshaped shape: (300, 35, 35, 3)\n",
      "Epoch 1/30\n",
      "10/10 [==============================] - 1s 13ms/step - loss: 1.7069 - accuracy: 0.2670\n",
      "Epoch 2/30\n",
      "10/10 [==============================] - 0s 12ms/step - loss: 1.1810 - accuracy: 0.3091\n",
      "Epoch 3/30\n",
      "10/10 [==============================] - 0s 13ms/step - loss: 1.1113 - accuracy: 0.3285\n",
      "Epoch 4/30\n",
      "10/10 [==============================] - 0s 12ms/step - loss: 1.0864 - accuracy: 0.3596\n",
      "Epoch 5/30\n",
      "10/10 [==============================] - 0s 12ms/step - loss: 1.0617 - accuracy: 0.4243\n",
      "Epoch 6/30\n",
      "10/10 [==============================] - 0s 13ms/step - loss: 1.1207 - accuracy: 0.4532\n",
      "Epoch 7/30\n",
      "10/10 [==============================] - 0s 12ms/step - loss: 1.0150 - accuracy: 0.5793\n",
      "Epoch 8/30\n",
      "10/10 [==============================] - 0s 12ms/step - loss: 0.9096 - accuracy: 0.6078\n",
      "Epoch 9/30\n",
      "10/10 [==============================] - 0s 13ms/step - loss: 0.9728 - accuracy: 0.5246\n",
      "Epoch 10/30\n",
      "10/10 [==============================] - 0s 12ms/step - loss: 0.7635 - accuracy: 0.6915\n",
      "Epoch 11/30\n",
      "10/10 [==============================] - 0s 13ms/step - loss: 0.5771 - accuracy: 0.8368\n",
      "Epoch 12/30\n",
      "10/10 [==============================] - 0s 13ms/step - loss: 0.4572 - accuracy: 0.8703\n",
      "Epoch 13/30\n",
      "10/10 [==============================] - 0s 12ms/step - loss: 0.3822 - accuracy: 0.8768\n",
      "Epoch 14/30\n",
      "10/10 [==============================] - 0s 13ms/step - loss: 0.3124 - accuracy: 0.9014\n",
      "Epoch 15/30\n",
      "10/10 [==============================] - 0s 12ms/step - loss: 0.2283 - accuracy: 0.9455\n",
      "Epoch 16/30\n",
      "10/10 [==============================] - 0s 13ms/step - loss: 0.2076 - accuracy: 0.9555\n",
      "Epoch 17/30\n",
      "10/10 [==============================] - 0s 12ms/step - loss: 0.1327 - accuracy: 0.9884\n",
      "Epoch 18/30\n",
      "10/10 [==============================] - 0s 12ms/step - loss: 0.1285 - accuracy: 0.9630\n",
      "Epoch 19/30\n",
      "10/10 [==============================] - 0s 12ms/step - loss: 0.0938 - accuracy: 0.9862\n",
      "Epoch 20/30\n",
      "10/10 [==============================] - 0s 12ms/step - loss: 0.0782 - accuracy: 0.9916\n",
      "Epoch 21/30\n",
      "10/10 [==============================] - 0s 13ms/step - loss: 0.0805 - accuracy: 0.9870\n",
      "Epoch 22/30\n",
      "10/10 [==============================] - 0s 12ms/step - loss: 0.0783 - accuracy: 0.9856\n",
      "Epoch 23/30\n",
      "10/10 [==============================] - 0s 13ms/step - loss: 0.0674 - accuracy: 0.9879\n",
      "Epoch 24/30\n",
      "10/10 [==============================] - 0s 12ms/step - loss: 0.0467 - accuracy: 0.9935\n",
      "Epoch 25/30\n",
      "10/10 [==============================] - 0s 13ms/step - loss: 0.0408 - accuracy: 0.9920\n",
      "Epoch 26/30\n",
      "10/10 [==============================] - 0s 13ms/step - loss: 0.0267 - accuracy: 0.9966\n",
      "Epoch 27/30\n",
      "10/10 [==============================] - 0s 13ms/step - loss: 0.0266 - accuracy: 0.9935\n",
      "Epoch 28/30\n",
      "10/10 [==============================] - 0s 12ms/step - loss: 0.0225 - accuracy: 0.9956\n",
      "Epoch 29/30\n",
      "10/10 [==============================] - 0s 13ms/step - loss: 0.0224 - accuracy: 0.9914\n",
      "Epoch 30/30\n",
      "10/10 [==============================] - 0s 12ms/step - loss: 0.0188 - accuracy: 1.0000\n"
     ]
    },
    {
     "data": {
      "text/plain": [
       "<tensorflow.python.keras.callbacks.History at 0x7fd5e3aa8d50>"
      ]
     },
     "execution_count": 68,
     "metadata": {},
     "output_type": "execute_result"
    }
   ],
   "source": [
    "x_train_reshaped=x_train_norm.reshape(-1, 35, 35, 3)  # 데이터갯수에 -1을 쓰면 reshape시 자동계산됩니다.\n",
    "\n",
    "print(\"After Reshape - x_train_reshaped shape: {}\".format(x_train_reshaped.shape))\n",
    "\n",
    "model.compile(optimizer='adam',\n",
    "             loss='sparse_categorical_crossentropy',\n",
    "             metrics=['accuracy'])\n",
    "\n",
    "model.fit(x_train_reshaped, y_train, epochs=n_train_epoch)"
   ]
  },
  {
   "cell_type": "markdown",
   "id": "gothic-alberta",
   "metadata": {},
   "source": [
    "# 테스트 하기"
   ]
  },
  {
   "cell_type": "code",
   "execution_count": 53,
   "id": "australian-lambda",
   "metadata": {},
   "outputs": [
    {
     "name": "stdout",
     "output_type": "stream",
     "text": [
      "100  images to be resized.\n",
      "100  images resized.\n",
      "100  images to be resized.\n",
      "100  images resized.\n",
      "100  images to be resized.\n",
      "100  images resized.\n"
     ]
    }
   ],
   "source": [
    "#테스트용 이미지 resize 하기\n",
    "image_dir_path = os.getenv(\"HOME\") + \"/aiffel/rock_scissor_paper/test/scissor\"\n",
    "resize_images(image_dir_path)\n",
    "image_dir_path = os.getenv(\"HOME\") + \"/aiffel/rock_scissor_paper/test/rock\"\n",
    "resize_images(image_dir_path)\n",
    "image_dir_path = os.getenv(\"HOME\") + \"/aiffel/rock_scissor_paper/test/paper\"\n",
    "resize_images(image_dir_path)"
   ]
  },
  {
   "cell_type": "code",
   "execution_count": 54,
   "id": "compatible-flesh",
   "metadata": {},
   "outputs": [
    {
     "name": "stdout",
     "output_type": "stream",
     "text": [
      "이미지 개수는 300 입니다.\n"
     ]
    }
   ],
   "source": [
    "image_dir_path = os.getenv(\"HOME\") + \"/aiffel/rock_scissor_paper/test\"\n",
    "(x_test, y_test)=load_data(image_dir_path)\n",
    "x_test_norm = x_test/255.0   # 입력은 0~1 사이의 값으로 정규화"
   ]
  },
  {
   "cell_type": "code",
   "execution_count": 69,
   "id": "traditional-slide",
   "metadata": {
    "scrolled": true
   },
   "outputs": [
    {
     "name": "stdout",
     "output_type": "stream",
     "text": [
      "10/10 [==============================] - 0s 6ms/step - loss: 0.9335 - accuracy: 0.6067\n"
     ]
    },
    {
     "data": {
      "text/plain": [
       "[0.9335184693336487, 0.6066666841506958]"
      ]
     },
     "execution_count": 69,
     "metadata": {},
     "output_type": "execute_result"
    }
   ],
   "source": [
    "x_test_reshaped=x_test_norm.reshape(-1, 35, 35, 3)  # 데이터갯수에 -1을 쓰면 reshape시 자동계산됩니다.\n",
    "\n",
    "model.evaluate(x_test_reshaped, y_test)"
   ]
  },
  {
   "cell_type": "markdown",
   "id": "pursuant-world",
   "metadata": {},
   "source": [
    "# conclusion"
   ]
  },
  {
   "cell_type": "markdown",
   "id": "continuous-democracy",
   "metadata": {},
   "source": [
    "## 요약 \n",
    "\n",
    "* 데이터 불러오기 + resize 하기 : \n",
    "    훈련할 이미지들을 열고 resize 해서 다시 저장 후 numpy의 array에 이미지들을 복사했다.\n",
    "\n",
    "* 딥러닝 네트워크 설계하기 : \n",
    "    여러 레이어들을 중첩해서 네트워크를 설계했다. 네트워크에 쓰이는 여러 값들을 하이어파라미터로 지정해서 조절했다.\n",
    "\n",
    "* 딥러닝 네트워크 학습시키기 : \n",
    "    고급경사하강법 중 아담을 이용하여 딥러닝 네트워크를 학습시켰다.\n",
    "\n",
    "* 테스트하기 : \n",
    "    다른 사람의 가위바위보 이미지들을 이용해서 정확도를 산출했다. \n",
    "\n",
    "## 회고\n",
    "    test accuracy가 60%이상이 되도록 하는 것이 생각보다 어려웠다. 먼저 이미지 사이즈를 35X35로 늘리고, 하이어파라미터들의 값을 무조건 늘리는 식으로 조절했다. 하지만 n_train_epoch를 40으로 바꿨을 때 30일 때보다 더 정확도가 낮아진다는 사실을 알고 무조건 늘리는게 답은 아니라는 생각을 했다. 따라서 어느 한 파라미터를 많이 올리기 보다는 다같이 조금씩 올리는 방식으로 했고, 하이어 파라미터 뿐만 아니라 maxpooling의 pool size도 3X3으로 늘렸다. 그리고 다른 값들은 코드를 수정하는 일이 없었는데, 이미지 사이즈를 조절했을 때 다른 부분의 코드들을 수정해야 해서 그 점이 조금 어려웠다."
   ]
  }
 ],
 "metadata": {
  "kernelspec": {
   "display_name": "Python 3",
   "language": "python",
   "name": "python3"
  },
  "language_info": {
   "codemirror_mode": {
    "name": "ipython",
    "version": 3
   },
   "file_extension": ".py",
   "mimetype": "text/x-python",
   "name": "python",
   "nbconvert_exporter": "python",
   "pygments_lexer": "ipython3",
   "version": "3.7.9"
  }
 },
 "nbformat": 4,
 "nbformat_minor": 5
}
